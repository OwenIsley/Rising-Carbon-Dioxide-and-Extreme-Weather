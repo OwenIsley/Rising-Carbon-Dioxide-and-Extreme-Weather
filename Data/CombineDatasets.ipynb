{
 "cells": [
  {
   "cell_type": "code",
   "execution_count": 1,
   "metadata": {},
   "outputs": [],
   "source": [
    "import pandas as pd\n",
    "import numpy as np"
   ]
  },
  {
   "cell_type": "code",
   "execution_count": 25,
   "metadata": {},
   "outputs": [
    {
     "data": {
      "text/html": [
       "<div>\n",
       "<style scoped>\n",
       "    .dataframe tbody tr th:only-of-type {\n",
       "        vertical-align: middle;\n",
       "    }\n",
       "\n",
       "    .dataframe tbody tr th {\n",
       "        vertical-align: top;\n",
       "    }\n",
       "\n",
       "    .dataframe thead th {\n",
       "        text-align: right;\n",
       "    }\n",
       "</style>\n",
       "<table border=\"1\" class=\"dataframe\">\n",
       "  <thead>\n",
       "    <tr style=\"text-align: right;\">\n",
       "      <th></th>\n",
       "      <th>BGN_YEAR</th>\n",
       "      <th>DAMAGETOT</th>\n",
       "      <th>FATINJTOT</th>\n",
       "      <th>EVTYPEMAP</th>\n",
       "    </tr>\n",
       "  </thead>\n",
       "  <tbody>\n",
       "    <tr>\n",
       "      <td>0</td>\n",
       "      <td>1959</td>\n",
       "      <td>25000.0</td>\n",
       "      <td>0</td>\n",
       "      <td>TORNADO</td>\n",
       "    </tr>\n",
       "    <tr>\n",
       "      <td>1</td>\n",
       "      <td>1959</td>\n",
       "      <td>0.0</td>\n",
       "      <td>0</td>\n",
       "      <td>THUNDERSTORM WIND</td>\n",
       "    </tr>\n",
       "    <tr>\n",
       "      <td>2</td>\n",
       "      <td>1959</td>\n",
       "      <td>0.0</td>\n",
       "      <td>0</td>\n",
       "      <td>THUNDERSTORM WIND</td>\n",
       "    </tr>\n",
       "    <tr>\n",
       "      <td>3</td>\n",
       "      <td>1959</td>\n",
       "      <td>0.0</td>\n",
       "      <td>0</td>\n",
       "      <td>THUNDERSTORM WIND</td>\n",
       "    </tr>\n",
       "    <tr>\n",
       "      <td>4</td>\n",
       "      <td>1959</td>\n",
       "      <td>0.0</td>\n",
       "      <td>0</td>\n",
       "      <td>HAIL</td>\n",
       "    </tr>\n",
       "  </tbody>\n",
       "</table>\n",
       "</div>"
      ],
      "text/plain": [
       "   BGN_YEAR  DAMAGETOT  FATINJTOT          EVTYPEMAP\n",
       "0      1959    25000.0          0            TORNADO\n",
       "1      1959        0.0          0  THUNDERSTORM WIND\n",
       "2      1959        0.0          0  THUNDERSTORM WIND\n",
       "3      1959        0.0          0  THUNDERSTORM WIND\n",
       "4      1959        0.0          0               HAIL"
      ]
     },
     "execution_count": 25,
     "metadata": {},
     "output_type": "execute_result"
    }
   ],
   "source": [
    "df = pd.read_csv(\"PreprocessedData\", sep=',', low_memory=False)\n",
    "df = df.drop(columns=['Unnamed: 0', 'EVTYPE', 'FATALITIES', 'INJURIES','PROPDMG','PROPDMGEXP','CROPDMG','CROPDMGEXP', 'PROPTOT', 'CROPTOT','EVTYPEMAP'])\n",
    "df.BGN_DATE = df.BGN_DATE.str.slice(0, 4)\n",
    "df.rename(columns={'BGN_DATE':'BGN_YEAR'}, inplace=True)\n",
    "df['BGN_YEAR'] = df['BGN_YEAR'].astype(int)\n",
    "df.head()"
   ]
  },
  {
   "cell_type": "code",
   "execution_count": 27,
   "metadata": {},
   "outputs": [
    {
     "data": {
      "text/plain": [
       "(892919, 4)"
      ]
     },
     "execution_count": 27,
     "metadata": {},
     "output_type": "execute_result"
    }
   ],
   "source": []
  },
  {
   "cell_type": "code",
   "execution_count": 28,
   "metadata": {},
   "outputs": [
    {
     "data": {
      "text/html": [
       "<div>\n",
       "<style scoped>\n",
       "    .dataframe tbody tr th:only-of-type {\n",
       "        vertical-align: middle;\n",
       "    }\n",
       "\n",
       "    .dataframe tbody tr th {\n",
       "        vertical-align: top;\n",
       "    }\n",
       "\n",
       "    .dataframe thead th {\n",
       "        text-align: right;\n",
       "    }\n",
       "</style>\n",
       "<table border=\"1\" class=\"dataframe\">\n",
       "  <thead>\n",
       "    <tr style=\"text-align: right;\">\n",
       "      <th></th>\n",
       "      <th>year</th>\n",
       "      <th>mean</th>\n",
       "    </tr>\n",
       "  </thead>\n",
       "  <tbody>\n",
       "    <tr>\n",
       "      <td>0</td>\n",
       "      <td>1959</td>\n",
       "      <td>315.97</td>\n",
       "    </tr>\n",
       "    <tr>\n",
       "      <td>1</td>\n",
       "      <td>1960</td>\n",
       "      <td>316.91</td>\n",
       "    </tr>\n",
       "    <tr>\n",
       "      <td>2</td>\n",
       "      <td>1961</td>\n",
       "      <td>317.64</td>\n",
       "    </tr>\n",
       "    <tr>\n",
       "      <td>3</td>\n",
       "      <td>1962</td>\n",
       "      <td>318.45</td>\n",
       "    </tr>\n",
       "    <tr>\n",
       "      <td>4</td>\n",
       "      <td>1963</td>\n",
       "      <td>318.99</td>\n",
       "    </tr>\n",
       "  </tbody>\n",
       "</table>\n",
       "</div>"
      ],
      "text/plain": [
       "   year    mean\n",
       "0  1959  315.97\n",
       "1  1960  316.91\n",
       "2  1961  317.64\n",
       "3  1962  318.45\n",
       "4  1963  318.99"
      ]
     },
     "execution_count": 28,
     "metadata": {},
     "output_type": "execute_result"
    }
   ],
   "source": [
    "df2 = pd.read_csv(\"co2_annmean_mlo_preprocessed.txt\", sep=',')\n",
    "df2['year'] = df2['year'].astype(int)\n",
    "df2 = df2.drop(columns=['unc'])\n",
    "df2.head()"
   ]
  },
  {
   "cell_type": "code",
   "execution_count": 29,
   "metadata": {},
   "outputs": [],
   "source": [
    "result = pd.merge(df, df2, left_on='BGN_YEAR', right_on='year', how='left')"
   ]
  },
  {
   "cell_type": "code",
   "execution_count": 31,
   "metadata": {},
   "outputs": [],
   "source": [
    "result = result.drop(columns=['year'])\n",
    "result.rename(columns={'mean':'CARBON'}, inplace=True)"
   ]
  },
  {
   "cell_type": "code",
   "execution_count": 33,
   "metadata": {},
   "outputs": [
    {
     "data": {
      "text/html": [
       "<div>\n",
       "<style scoped>\n",
       "    .dataframe tbody tr th:only-of-type {\n",
       "        vertical-align: middle;\n",
       "    }\n",
       "\n",
       "    .dataframe tbody tr th {\n",
       "        vertical-align: top;\n",
       "    }\n",
       "\n",
       "    .dataframe thead th {\n",
       "        text-align: right;\n",
       "    }\n",
       "</style>\n",
       "<table border=\"1\" class=\"dataframe\">\n",
       "  <thead>\n",
       "    <tr style=\"text-align: right;\">\n",
       "      <th></th>\n",
       "      <th>BGN_YEAR</th>\n",
       "      <th>DAMAGETOT</th>\n",
       "      <th>FATINJTOT</th>\n",
       "      <th>EVTYPEMAP</th>\n",
       "      <th>CARBON</th>\n",
       "    </tr>\n",
       "  </thead>\n",
       "  <tbody>\n",
       "    <tr>\n",
       "      <td>0</td>\n",
       "      <td>1959</td>\n",
       "      <td>25000.0</td>\n",
       "      <td>0</td>\n",
       "      <td>TORNADO</td>\n",
       "      <td>315.97</td>\n",
       "    </tr>\n",
       "    <tr>\n",
       "      <td>1</td>\n",
       "      <td>1959</td>\n",
       "      <td>0.0</td>\n",
       "      <td>0</td>\n",
       "      <td>THUNDERSTORM WIND</td>\n",
       "      <td>315.97</td>\n",
       "    </tr>\n",
       "    <tr>\n",
       "      <td>2</td>\n",
       "      <td>1959</td>\n",
       "      <td>0.0</td>\n",
       "      <td>0</td>\n",
       "      <td>THUNDERSTORM WIND</td>\n",
       "      <td>315.97</td>\n",
       "    </tr>\n",
       "    <tr>\n",
       "      <td>3</td>\n",
       "      <td>1959</td>\n",
       "      <td>0.0</td>\n",
       "      <td>0</td>\n",
       "      <td>THUNDERSTORM WIND</td>\n",
       "      <td>315.97</td>\n",
       "    </tr>\n",
       "    <tr>\n",
       "      <td>4</td>\n",
       "      <td>1959</td>\n",
       "      <td>0.0</td>\n",
       "      <td>0</td>\n",
       "      <td>HAIL</td>\n",
       "      <td>315.97</td>\n",
       "    </tr>\n",
       "    <tr>\n",
       "      <td>...</td>\n",
       "      <td>...</td>\n",
       "      <td>...</td>\n",
       "      <td>...</td>\n",
       "      <td>...</td>\n",
       "      <td>...</td>\n",
       "    </tr>\n",
       "    <tr>\n",
       "      <td>892914</td>\n",
       "      <td>2011</td>\n",
       "      <td>0.0</td>\n",
       "      <td>0</td>\n",
       "      <td>HIGH WIND</td>\n",
       "      <td>391.65</td>\n",
       "    </tr>\n",
       "    <tr>\n",
       "      <td>892915</td>\n",
       "      <td>2011</td>\n",
       "      <td>0.0</td>\n",
       "      <td>0</td>\n",
       "      <td>HIGH WIND</td>\n",
       "      <td>391.65</td>\n",
       "    </tr>\n",
       "    <tr>\n",
       "      <td>892916</td>\n",
       "      <td>2011</td>\n",
       "      <td>0.0</td>\n",
       "      <td>0</td>\n",
       "      <td>HIGH WIND</td>\n",
       "      <td>391.65</td>\n",
       "    </tr>\n",
       "    <tr>\n",
       "      <td>892917</td>\n",
       "      <td>2011</td>\n",
       "      <td>0.0</td>\n",
       "      <td>0</td>\n",
       "      <td>WINTER STORM</td>\n",
       "      <td>391.65</td>\n",
       "    </tr>\n",
       "    <tr>\n",
       "      <td>892918</td>\n",
       "      <td>2011</td>\n",
       "      <td>0.0</td>\n",
       "      <td>0</td>\n",
       "      <td>HEAVY SNOW</td>\n",
       "      <td>391.65</td>\n",
       "    </tr>\n",
       "  </tbody>\n",
       "</table>\n",
       "<p>892919 rows × 5 columns</p>\n",
       "</div>"
      ],
      "text/plain": [
       "        BGN_YEAR  DAMAGETOT  FATINJTOT          EVTYPEMAP  CARBON\n",
       "0           1959    25000.0          0            TORNADO  315.97\n",
       "1           1959        0.0          0  THUNDERSTORM WIND  315.97\n",
       "2           1959        0.0          0  THUNDERSTORM WIND  315.97\n",
       "3           1959        0.0          0  THUNDERSTORM WIND  315.97\n",
       "4           1959        0.0          0               HAIL  315.97\n",
       "...          ...        ...        ...                ...     ...\n",
       "892914      2011        0.0          0          HIGH WIND  391.65\n",
       "892915      2011        0.0          0          HIGH WIND  391.65\n",
       "892916      2011        0.0          0          HIGH WIND  391.65\n",
       "892917      2011        0.0          0       WINTER STORM  391.65\n",
       "892918      2011        0.0          0         HEAVY SNOW  391.65\n",
       "\n",
       "[892919 rows x 5 columns]"
      ]
     },
     "execution_count": 33,
     "metadata": {},
     "output_type": "execute_result"
    }
   ],
   "source": [
    "result"
   ]
  },
  {
   "cell_type": "code",
   "execution_count": null,
   "metadata": {},
   "outputs": [],
   "source": []
  },
  {
   "cell_type": "code",
   "execution_count": 34,
   "metadata": {},
   "outputs": [],
   "source": [
    "result.to_excel(r'CombinedDatasets.xlsx')"
   ]
  }
 ],
 "metadata": {
  "kernelspec": {
   "display_name": "Python 3",
   "language": "python",
   "name": "python3"
  },
  "language_info": {
   "codemirror_mode": {
    "name": "ipython",
    "version": 3
   },
   "file_extension": ".py",
   "mimetype": "text/x-python",
   "name": "python",
   "nbconvert_exporter": "python",
   "pygments_lexer": "ipython3",
   "version": "3.7.4"
  }
 },
 "nbformat": 4,
 "nbformat_minor": 2
}
